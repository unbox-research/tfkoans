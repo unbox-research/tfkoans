{
 "cells": [
  {
   "cell_type": "markdown",
   "metadata": {},
   "source": [
    "# Linear Regression using a TensorFlow Estimator\n",
    "\n",
    "This notebook shows how we can train a linear regression model using the `tf.estimator` interface.\n",
    "\n",
    "**Warning**: If you run this notebook twice (even with a kernel restart\n",
    "and the same random seed),\n",
    "you will get different results because estimators apparently\n",
    "automatically train beginning from the last saved state in their\n",
    "`model_dir`. If you want to get a clean start, you can delete\n",
    "that directory (called `lin_reg_est` in this notebook)."
   ]
  },
  {
   "cell_type": "markdown",
   "metadata": {},
   "source": [
    "## Imports"
   ]
  },
  {
   "cell_type": "code",
   "execution_count": 1,
   "metadata": {},
   "outputs": [],
   "source": [
    "import logging\n",
    "import pickle\n",
    "\n",
    "import tensorflow as tf"
   ]
  },
  {
   "cell_type": "markdown",
   "metadata": {},
   "source": [
    "## Load in the data"
   ]
  },
  {
   "cell_type": "code",
   "execution_count": 2,
   "metadata": {},
   "outputs": [],
   "source": [
    "with open('lin_reg_data.pkl', 'rb') as f:\n",
    "    X_train, X_test, y_train, y_test = pickle.load(f)"
   ]
  },
  {
   "cell_type": "markdown",
   "metadata": {},
   "source": [
    "## Set up the estimator"
   ]
  },
  {
   "cell_type": "code",
   "execution_count": 3,
   "metadata": {},
   "outputs": [
    {
     "data": {
      "text/plain": [
       "(90, 2)"
      ]
     },
     "execution_count": 3,
     "metadata": {},
     "output_type": "execute_result"
    }
   ],
   "source": [
    "n_pts, n_features = X_train.shape\n",
    "n_pts, n_features"
   ]
  },
  {
   "cell_type": "code",
   "execution_count": 4,
   "metadata": {},
   "outputs": [],
   "source": [
    "feature_columns = [tf.feature_column.numeric_column('x', shape=n_features)]"
   ]
  },
  {
   "cell_type": "code",
   "execution_count": 5,
   "metadata": {},
   "outputs": [
    {
     "name": "stdout",
     "output_type": "stream",
     "text": [
      "INFO:tensorflow:Using default config.\n",
      "INFO:tensorflow:Using config: {'_model_dir': 'lin_reg_est', '_tf_random_seed': None, '_save_summary_steps': 100, '_save_checkpoints_steps': None, '_save_checkpoints_secs': 600, '_session_config': None, '_keep_checkpoint_max': 5, '_keep_checkpoint_every_n_hours': 10000, '_log_step_count_steps': 100, '_train_distribute': None, '_device_fn': None, '_service': None, '_cluster_spec': <tensorflow.python.training.server_lib.ClusterSpec object at 0x118622898>, '_task_type': 'worker', '_task_id': 0, '_global_id_in_cluster': 0, '_master': '', '_evaluation_master': '', '_is_chief': True, '_num_ps_replicas': 0, '_num_worker_replicas': 1}\n"
     ]
    }
   ],
   "source": [
    "lin_reg_model = tf.estimator.LinearRegressor(\n",
    "    feature_columns = feature_columns,\n",
    "    model_dir = 'lin_reg_est'\n",
    ")"
   ]
  },
  {
   "cell_type": "markdown",
   "metadata": {},
   "source": [
    "## Train the estimator"
   ]
  },
  {
   "cell_type": "code",
   "execution_count": 6,
   "metadata": {},
   "outputs": [],
   "source": [
    "# Training produces a lot of INFO log messages.\n",
    "# We'll throw out some of those with a log filter function.\n",
    "def keep_every_nth_info(n):\n",
    "    i = -1\n",
    "    def filter_record(record):\n",
    "        nonlocal i\n",
    "        i += 1\n",
    "        return int(record.levelname != 'INFO' or i % n == 0)\n",
    "    return filter_record\n",
    "logging.getLogger('tensorflow').addFilter(keep_every_nth_info(5))"
   ]
  },
  {
   "cell_type": "code",
   "execution_count": 7,
   "metadata": {},
   "outputs": [
    {
     "name": "stdout",
     "output_type": "stream",
     "text": [
      "INFO:tensorflow:Calling model_fn.\n",
      "INFO:tensorflow:Done running local_init_op.\n",
      "INFO:tensorflow:global_step/sec: 2094.29\n",
      "INFO:tensorflow:loss = 124.36266, step = 401 (0.044 sec)\n",
      "INFO:tensorflow:global_step/sec: 2289.9\n",
      "INFO:tensorflow:loss = 92.20567, step = 901 (0.044 sec)\n",
      "INFO:tensorflow:global_step/sec: 2411.79\n",
      "INFO:tensorflow:loss = 77.32136, step = 1401 (0.044 sec)\n",
      "INFO:tensorflow:global_step/sec: 2267.31\n",
      "INFO:tensorflow:loss = 70.15773, step = 1901 (0.044 sec)\n",
      "INFO:tensorflow:global_step/sec: 2206.56\n",
      "INFO:tensorflow:loss = 66.68256, step = 2401 (0.046 sec)\n",
      "INFO:tensorflow:global_step/sec: 2083.03\n",
      "INFO:tensorflow:loss = 64.99036, step = 2901 (0.044 sec)\n",
      "INFO:tensorflow:global_step/sec: 2315.03\n",
      "INFO:tensorflow:loss = 64.16485, step = 3401 (0.044 sec)\n",
      "INFO:tensorflow:global_step/sec: 2204.63\n",
      "INFO:tensorflow:loss = 63.76175, step = 3901 (0.043 sec)\n",
      "INFO:tensorflow:global_step/sec: 2200.75\n",
      "INFO:tensorflow:loss = 63.564877, step = 4401 (0.044 sec)\n",
      "INFO:tensorflow:global_step/sec: 2244.46\n",
      "INFO:tensorflow:loss = 63.46864, step = 4901 (0.046 sec)\n"
     ]
    },
    {
     "data": {
      "text/plain": [
       "<tensorflow.python.estimator.canned.linear.LinearRegressor at 0x118622208>"
      ]
     },
     "execution_count": 7,
     "metadata": {},
     "output_type": "execute_result"
    }
   ],
   "source": [
    "lin_reg_model.train(\n",
    "    input_fn = lambda: ({'x': tf.convert_to_tensor(X_train)}, tf.convert_to_tensor(y_train)),\n",
    "    steps = 5000\n",
    ")"
   ]
  },
  {
   "cell_type": "markdown",
   "metadata": {},
   "source": [
    "Note that the loss here is the sum squared error,\n",
    "rather than the mean squared error (MSE). The next\n",
    "cell helps us find the MSE loss value."
   ]
  },
  {
   "cell_type": "code",
   "execution_count": 8,
   "metadata": {},
   "outputs": [
    {
     "name": "stdout",
     "output_type": "stream",
     "text": [
      "INFO:tensorflow:Starting evaluation at 2018-08-07-19:42:24\n",
      "INFO:tensorflow:Evaluation [1/1]\n"
     ]
    },
    {
     "data": {
      "text/plain": [
       "0.70507103"
      ]
     },
     "execution_count": 8,
     "metadata": {},
     "output_type": "execute_result"
    }
   ],
   "source": [
    "metrics = lin_reg_model.evaluate(\n",
    "    input_fn = lambda: ({'x': tf.convert_to_tensor(X_train)}, tf.convert_to_tensor(y_train)),\n",
    "    steps = 1\n",
    ")\n",
    "metrics['average_loss']"
   ]
  },
  {
   "cell_type": "code",
   "execution_count": 9,
   "metadata": {},
   "outputs": [
    {
     "name": "stdout",
     "output_type": "stream",
     "text": [
      "[[3.4154036]\n",
      " [4.4533696]]\n",
      "[0.7958069]\n"
     ]
    }
   ],
   "source": [
    "# Check the learned weights and bias.\n",
    "print(lin_reg_model.get_variable_value('linear/linear_model/x/weights'))\n",
    "print(lin_reg_model.get_variable_value('linear/linear_model/bias_weights'))"
   ]
  },
  {
   "cell_type": "markdown",
   "metadata": {},
   "source": [
    "As far as I could determine, there is no easy way to add regularization\n",
    "to the pre-made `LinearRegressor` model."
   ]
  },
  {
   "cell_type": "code",
   "execution_count": null,
   "metadata": {},
   "outputs": [],
   "source": []
  }
 ],
 "metadata": {
  "kernelspec": {
   "display_name": "tfkoans-env",
   "language": "python",
   "name": "tfkoans-env"
  },
  "language_info": {
   "codemirror_mode": {
    "name": "ipython",
    "version": 3
   },
   "file_extension": ".py",
   "mimetype": "text/x-python",
   "name": "python",
   "nbconvert_exporter": "python",
   "pygments_lexer": "ipython3",
   "version": "3.6.5"
  }
 },
 "nbformat": 4,
 "nbformat_minor": 2
}
