{
 "cells": [
  {
   "cell_type": "markdown",
   "metadata": {},
   "source": [
    "# Linear Regression in TensorFlow\n",
    "\n",
    "This notebook loads in the sample regression data\n",
    "created in `make_lin_reg_data.ipynb` and trains\n",
    "a linear regression model on it."
   ]
  },
  {
   "cell_type": "markdown",
   "metadata": {},
   "source": [
    "## Imports"
   ]
  },
  {
   "cell_type": "code",
   "execution_count": 1,
   "metadata": {},
   "outputs": [],
   "source": [
    "import pickle\n",
    "\n",
    "import numpy as np\n",
    "import tensorflow as tf"
   ]
  },
  {
   "cell_type": "markdown",
   "metadata": {},
   "source": [
    "## Load in the data"
   ]
  },
  {
   "cell_type": "code",
   "execution_count": 2,
   "metadata": {},
   "outputs": [],
   "source": [
    "with open('lin_reg_data.pkl', 'rb') as f:\n",
    "    X_train, X_test, y_train, y_test = pickle.load(f)"
   ]
  },
  {
   "cell_type": "markdown",
   "metadata": {},
   "source": [
    "## Set up our tf graph"
   ]
  },
  {
   "cell_type": "code",
   "execution_count": 3,
   "metadata": {},
   "outputs": [],
   "source": [
    "n_features = X_train.shape[1]\n",
    "\n",
    "X = tf.placeholder(tf.float32, [None, n_features], name='X')\n",
    "y = tf.placeholder(tf.float32, [None, 1], name='y')\n",
    "\n",
    "# This is such a small example that initialization is probably not important,\n",
    "# but I'm going with He initialization anyway.\n",
    "init_weights = tf.truncated_normal((n_features, 1), stddev=2/np.sqrt(n_features))\n",
    "w = tf.Variable(init_weights, name='w')\n",
    "b = tf.Variable(tf.zeros([1]), name='b')\n",
    "\n",
    "y_pred = tf.matmul(X, w) + b\n",
    "\n",
    "# Set up the init function.\n",
    "init = tf.global_variables_initializer()"
   ]
  },
  {
   "cell_type": "markdown",
   "metadata": {},
   "source": [
    "## Set up our loss and accuracy values"
   ]
  },
  {
   "cell_type": "code",
   "execution_count": 4,
   "metadata": {},
   "outputs": [],
   "source": [
    "err = y_pred - y\n",
    "loss = tf.reduce_mean(err ** 2)\n",
    "accuracy = loss"
   ]
  },
  {
   "cell_type": "markdown",
   "metadata": {},
   "source": [
    "## Set up our optimizer"
   ]
  },
  {
   "cell_type": "code",
   "execution_count": 5,
   "metadata": {},
   "outputs": [],
   "source": [
    "learning_rate = 0.01\n",
    "optimizer = tf.train.GradientDescentOptimizer(learning_rate)\n",
    "training_op = optimizer.minimize(loss)"
   ]
  },
  {
   "cell_type": "markdown",
   "metadata": {},
   "source": [
    "## Train on the data"
   ]
  },
  {
   "cell_type": "code",
   "execution_count": 6,
   "metadata": {},
   "outputs": [
    {
     "name": "stdout",
     "output_type": "stream",
     "text": [
      "After 1000 epochs, loss = 0.72427535\n",
      "After 2000 epochs, loss = 0.70609176\n",
      "After 3000 epochs, loss = 0.70436627\n",
      "After 4000 epochs, loss = 0.70420235\n",
      "After 5000 epochs, loss = 0.7041869\n",
      "Trained w:\n",
      " [[3.4369621]\n",
      " [4.4642615]]\n",
      "Trained b:\n",
      " [0.9104036]\n"
     ]
    }
   ],
   "source": [
    "n_epochs = 5000\n",
    "\n",
    "with tf.Session() as sess:\n",
    "    init.run()\n",
    "    feed_dict = {X: X_train, y: y_train}\n",
    "    for i in range(n_epochs):\n",
    "        sess.run(training_op, feed_dict = feed_dict)\n",
    "        if (i + 1) % 1000 == 0:\n",
    "            loss_ = loss.eval(feed_dict = feed_dict)\n",
    "            print('After %d epochs, loss =' % (i + 1), loss_)\n",
    "    \n",
    "    w_, b_ = sess.run([w, b])\n",
    "    print('Trained w:\\n', w_)\n",
    "    print('Trained b:\\n', b_)"
   ]
  },
  {
   "cell_type": "markdown",
   "metadata": {},
   "source": [
    "## Set up a regularized version"
   ]
  },
  {
   "cell_type": "code",
   "execution_count": 7,
   "metadata": {},
   "outputs": [],
   "source": [
    "alpha = 0.5\n",
    "\n",
    "weight_loss = tf.reduce_sum(w ** 2)\n",
    "reg_loss = loss + alpha * weight_loss\n",
    "\n",
    "reg_training_op = optimizer.minimize(reg_loss)"
   ]
  },
  {
   "cell_type": "markdown",
   "metadata": {},
   "source": [
    "## Train the regularized version"
   ]
  },
  {
   "cell_type": "code",
   "execution_count": 8,
   "metadata": {},
   "outputs": [
    {
     "name": "stdout",
     "output_type": "stream",
     "text": [
      "After 1000 epochs, loss = 12.147609\n",
      "After 2000 epochs, loss = 12.093767\n",
      "After 3000 epochs, loss = 12.091247\n",
      "After 4000 epochs, loss = 12.09113\n",
      "After 5000 epochs, loss = 12.091124\n",
      "Trained w:\n",
      " [[2.089945 ]\n",
      " [3.4919374]]\n",
      "Trained b:\n",
      " [-4.562429]\n"
     ]
    }
   ],
   "source": [
    "n_epochs = 5000\n",
    "\n",
    "with tf.Session() as sess:\n",
    "    init.run()\n",
    "    feed_dict = {X: X_train, y: y_train}\n",
    "    for i in range(n_epochs):\n",
    "        sess.run(reg_training_op, feed_dict = feed_dict)\n",
    "        if (i + 1) % 1000 == 0:\n",
    "            reg_loss_ = reg_loss.eval(feed_dict = feed_dict)\n",
    "            print('After %d epochs, loss =' % (i + 1), reg_loss_)\n",
    "    \n",
    "    w_, b_ = sess.run([w, b])\n",
    "    print('Trained w:\\n', w_)\n",
    "    print('Trained b:\\n', b_)"
   ]
  },
  {
   "cell_type": "code",
   "execution_count": null,
   "metadata": {},
   "outputs": [],
   "source": []
  }
 ],
 "metadata": {
  "kernelspec": {
   "display_name": "tfkoans-env",
   "language": "python",
   "name": "tfkoans-env"
  },
  "language_info": {
   "codemirror_mode": {
    "name": "ipython",
    "version": 3
   },
   "file_extension": ".py",
   "mimetype": "text/x-python",
   "name": "python",
   "nbconvert_exporter": "python",
   "pygments_lexer": "ipython3",
   "version": "3.6.5"
  }
 },
 "nbformat": 4,
 "nbformat_minor": 2
}
