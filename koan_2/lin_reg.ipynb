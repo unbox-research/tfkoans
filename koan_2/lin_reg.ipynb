{
 "cells": [
  {
   "cell_type": "markdown",
   "metadata": {},
   "source": [
    "# Linear Regression in TensorFlow\n",
    "\n",
    "This notebook loads in the sample regression data\n",
    "created in `make_lin_reg_data.ipynb` and trains\n",
    "a linear regression model on it."
   ]
  },
  {
   "cell_type": "markdown",
   "metadata": {},
   "source": [
    "## Imports"
   ]
  },
  {
   "cell_type": "code",
   "execution_count": 13,
   "metadata": {},
   "outputs": [],
   "source": [
    "# TODO(tyler): Clean up as needed.\n",
    "\n",
    "%matplotlib inline\n",
    "\n",
    "import pickle\n",
    "\n",
    "import numpy as np\n",
    "import tensorflow as tf"
   ]
  },
  {
   "cell_type": "markdown",
   "metadata": {},
   "source": [
    "## Load in the data"
   ]
  },
  {
   "cell_type": "code",
   "execution_count": 2,
   "metadata": {},
   "outputs": [],
   "source": [
    "with open('lin_reg_data.pkl', 'rb') as f:\n",
    "    X_train, X_test, y_train, y_test = pickle.load(f)"
   ]
  },
  {
   "cell_type": "markdown",
   "metadata": {},
   "source": [
    "## Set up our tf graph"
   ]
  },
  {
   "cell_type": "code",
   "execution_count": 19,
   "metadata": {},
   "outputs": [],
   "source": [
    "n_features = X_train.shape[1]\n",
    "\n",
    "X = tf.placeholder(tf.float32, [None, n_features], name='X')\n",
    "y = tf.placeholder(tf.float32, [None, 1], name='Y')\n",
    "\n",
    "# TODO(tyler): Maybe these next vars should not\n",
    "#              be init'd as zeros.\n",
    "\n",
    "init_weights = tf.truncated_normal((n_features, 1), stddev=2/np.sqrt(n_features))\n",
    "w = tf.Variable(init_weights, name='w')\n",
    "b = tf.Variable(tf.zeros([1]), name='b')\n",
    "\n",
    "y_pred = tf.matmul(X, w) + b\n",
    "\n",
    "# Set up the init function.\n",
    "init = tf.global_variables_initializer()"
   ]
  },
  {
   "cell_type": "markdown",
   "metadata": {},
   "source": [
    "## Set up our loss and accuracy values"
   ]
  },
  {
   "cell_type": "code",
   "execution_count": 26,
   "metadata": {},
   "outputs": [],
   "source": [
    "err = y_pred - y\n",
    "loss = tf.matmul(err, tf.transpose(err))\n",
    "\n",
    "n_inputs = tf.cast(tf.shape(y)[0], tf.float32)\n",
    "accuracy = loss / n_inputs"
   ]
  },
  {
   "cell_type": "markdown",
   "metadata": {},
   "source": [
    "## Set up our optimizer"
   ]
  },
  {
   "cell_type": "code",
   "execution_count": 27,
   "metadata": {},
   "outputs": [],
   "source": [
    "learning_rate = 0.01\n",
    "optimizer = tf.train.GradientDescentOptimizer(learning_rate)\n",
    "training_op = optimizer.minimize(loss)"
   ]
  },
  {
   "cell_type": "markdown",
   "metadata": {},
   "source": [
    "## Train on the data"
   ]
  },
  {
   "cell_type": "code",
   "execution_count": 22,
   "metadata": {},
   "outputs": [
    {
     "name": "stdout",
     "output_type": "stream",
     "text": [
      "[[ 6.8976893]\n",
      " [ 3.5121331]\n",
      " [ 4.054454 ]\n",
      " [ 2.736562 ]\n",
      " [ 1.9038149]\n",
      " [ 9.210131 ]\n",
      " [ 4.0036516]\n",
      " [ 5.5392065]\n",
      " [ 8.314473 ]\n",
      " [ 3.7562888]\n",
      " [ 8.807344 ]\n",
      " [ 5.760682 ]\n",
      " [ 9.741184 ]\n",
      " [ 3.0294168]\n",
      " [ 5.1882954]\n",
      " [ 6.152554 ]\n",
      " [ 9.238184 ]\n",
      " [ 8.218526 ]\n",
      " [ 8.775305 ]\n",
      " [ 5.9799814]\n",
      " [ 7.9685574]\n",
      " [ 7.7155676]\n",
      " [ 8.829089 ]\n",
      " [ 5.458857 ]\n",
      " [ 3.3491035]\n",
      " [ 4.8164034]\n",
      " [ 5.973571 ]\n",
      " [ 4.099493 ]\n",
      " [ 7.9933586]\n",
      " [ 7.885316 ]\n",
      " [ 9.214988 ]\n",
      " [ 3.0936563]\n",
      " [ 5.5627875]\n",
      " [ 7.0601497]\n",
      " [ 3.5251126]\n",
      " [ 4.1347337]\n",
      " [ 5.9577355]\n",
      " [ 9.389118 ]\n",
      " [ 4.2074566]\n",
      " [ 3.5390935]\n",
      " [ 9.150999 ]\n",
      " [ 6.6371517]\n",
      " [ 6.419966 ]\n",
      " [ 3.864847 ]\n",
      " [ 8.222321 ]\n",
      " [ 4.9040675]\n",
      " [ 6.170685 ]\n",
      " [ 6.2979627]\n",
      " [ 5.9149785]\n",
      " [ 9.148199 ]\n",
      " [ 6.3563514]\n",
      " [ 8.109467 ]\n",
      " [ 4.900055 ]\n",
      " [ 8.926344 ]\n",
      " [ 5.434017 ]\n",
      " [ 8.721833 ]\n",
      " [ 2.7383766]\n",
      " [ 6.9958324]\n",
      " [ 3.4422126]\n",
      " [ 1.203527 ]\n",
      " [ 6.1847534]\n",
      " [ 6.741623 ]\n",
      " [ 9.433751 ]\n",
      " [ 4.972629 ]\n",
      " [ 7.7571807]\n",
      " [ 3.7584999]\n",
      " [ 9.28205  ]\n",
      " [ 3.3955736]\n",
      " [ 7.8487835]\n",
      " [ 7.7401958]\n",
      " [10.419271 ]\n",
      " [ 4.966159 ]\n",
      " [ 8.233857 ]\n",
      " [ 7.9562263]\n",
      " [ 3.7001834]\n",
      " [ 4.4061866]\n",
      " [ 5.724284 ]\n",
      " [ 2.6690536]\n",
      " [ 5.634217 ]\n",
      " [ 9.106919 ]\n",
      " [ 6.290476 ]\n",
      " [ 5.070727 ]\n",
      " [ 2.5805197]\n",
      " [ 2.2948992]\n",
      " [ 4.6229177]\n",
      " [ 5.78632  ]\n",
      " [ 4.09562  ]\n",
      " [ 3.6578116]\n",
      " [ 8.226104 ]\n",
      " [ 3.884523 ]]\n"
     ]
    }
   ],
   "source": [
    "# TODO(tyler): I somehow need to initialize things.\n",
    "\n",
    "with tf.Session() as sess:\n",
    "    init.run()\n",
    "    out = sess.run(y_pred, feed_dict = {X: X_train, y: y_train})\n",
    "    print(out)"
   ]
  },
  {
   "cell_type": "code",
   "execution_count": 28,
   "metadata": {},
   "outputs": [
    {
     "data": {
      "text/plain": [
       "'1.8.0'"
      ]
     },
     "execution_count": 28,
     "metadata": {},
     "output_type": "execute_result"
    }
   ],
   "source": [
    "tf.__version__"
   ]
  },
  {
   "cell_type": "code",
   "execution_count": null,
   "metadata": {},
   "outputs": [],
   "source": []
  }
 ],
 "metadata": {
  "kernelspec": {
   "display_name": "tfkoans-env",
   "language": "python",
   "name": "tfkoans-env"
  },
  "language_info": {
   "codemirror_mode": {
    "name": "ipython",
    "version": 3
   },
   "file_extension": ".py",
   "mimetype": "text/x-python",
   "name": "python",
   "nbconvert_exporter": "python",
   "pygments_lexer": "ipython3",
   "version": "3.6.5"
  }
 },
 "nbformat": 4,
 "nbformat_minor": 2
}
