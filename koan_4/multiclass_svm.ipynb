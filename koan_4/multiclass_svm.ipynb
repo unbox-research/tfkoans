{
 "cells": [
  {
   "cell_type": "markdown",
   "metadata": {},
   "source": [
    "# Multi-class SVM using Keras in TensorFlow\n",
    "\n",
    "This notebook shows an example of training and\n",
    "testing a multi-class SVM model on the classic\n",
    "MNIST image set. We use the keras portion of\n",
    "TensorFlow to do this."
   ]
  },
  {
   "cell_type": "markdown",
   "metadata": {},
   "source": [
    "## Imports"
   ]
  },
  {
   "cell_type": "code",
   "execution_count": 1,
   "metadata": {},
   "outputs": [
    {
     "name": "stdout",
     "output_type": "stream",
     "text": [
      "1.9.0\n"
     ]
    }
   ],
   "source": [
    "%matplotlib inline\n",
    "\n",
    "import matplotlib.pyplot as plt\n",
    "import numpy as np\n",
    "import tensorflow as tf\n",
    "\n",
    "from tensorflow import keras\n",
    "\n",
    "# Print out the TensorFlow version to help others reproduce this notebook.\n",
    "print(tf.__version__)"
   ]
  },
  {
   "cell_type": "markdown",
   "metadata": {},
   "source": [
    "## Load in the data"
   ]
  },
  {
   "cell_type": "code",
   "execution_count": 2,
   "metadata": {},
   "outputs": [],
   "source": [
    "mnist = keras.datasets.mnist\n",
    "\n",
    "# I use underscores for the y values because we will need\n",
    "# to process them further before they're ready to be fed\n",
    "# into our model.\n",
    "(X_train, y_train_), (X_test, y_test_) = mnist.load_data()"
   ]
  },
  {
   "cell_type": "markdown",
   "metadata": {},
   "source": [
    "## Understand the data and its format\n",
    "\n",
    "Each input is a black and white (single channel)\n",
    "image of size 28x28. Each label is an integer from 0 to 9.\n",
    "\n",
    "Each pixel has type `uint8`; an integer in the range [0, 256)."
   ]
  },
  {
   "cell_type": "code",
   "execution_count": 3,
   "metadata": {},
   "outputs": [
    {
     "data": {
      "text/plain": [
       "((60000, 28, 28), dtype('uint8'))"
      ]
     },
     "execution_count": 3,
     "metadata": {},
     "output_type": "execute_result"
    }
   ],
   "source": [
    "X_train.shape, X_train.dtype"
   ]
  },
  {
   "cell_type": "code",
   "execution_count": 4,
   "metadata": {},
   "outputs": [
    {
     "data": {
      "image/png": "[encoded data removed]",
      "text/plain": [
       "<Figure size 432x288 with 8 Axes>"
      ]
     },
     "metadata": {},
     "output_type": "display_data"
    }
   ],
   "source": [
    "# Examine some of the data.\n",
    "\n",
    "nrows, ncols = 2, 4\n",
    "\n",
    "for i in range(nrows * ncols):\n",
    "    \n",
    "    plt.subplot(nrows, ncols, i + 1)\n",
    "    plt.imshow(X_train[i])\n",
    "    plt.title('Label: %d' % y_train_[i])\n",
    "    \n",
    "plt.show()"
   ]
  },
  {
   "cell_type": "markdown",
   "metadata": {},
   "source": [
    "### Convert the y labels to one-hot vectors\n",
    "\n",
    "We need to do this in order to use keras' built-in `categorical_hinge` loss function."
   ]
  },
  {
   "cell_type": "code",
   "execution_count": 5,
   "metadata": {},
   "outputs": [
    {
     "data": {
      "text/plain": [
       "((60000, 10), (10000, 10))"
      ]
     },
     "execution_count": 5,
     "metadata": {},
     "output_type": "execute_result"
    }
   ],
   "source": [
    "y_train = np.eye(10)[y_train_]\n",
    "y_test  = np.eye(10)[y_test_]\n",
    "\n",
    "# Sanity check.\n",
    "y_train.shape, y_test.shape"
   ]
  },
  {
   "cell_type": "markdown",
   "metadata": {},
   "source": [
    "## Set up the keras model\n",
    "\n",
    "This will be a support vector machine (SVM) that\n",
    "provides 9 different output scores; the final output\n",
    "of the model is the class with the highest score.\n",
    "\n",
    "Each class is scored based on a linear classifier,\n",
    "and a particular loss function called the hinge\n",
    "loss is used."
   ]
  },
  {
   "cell_type": "code",
   "execution_count": 6,
   "metadata": {},
   "outputs": [],
   "source": [
    "model = keras.Sequential()\n",
    "model.add(keras.layers.Flatten())\n",
    "model.add(keras.layers.Dense(10, activation='linear'))\n",
    "model.compile(\n",
    "    optimizer = tf.train.AdamOptimizer(0.0002),\n",
    "    loss = 'categorical_hinge',\n",
    "    metrics = ['categorical_accuracy']\n",
    ")"
   ]
  },
  {
   "cell_type": "code",
   "execution_count": 7,
   "metadata": {},
   "outputs": [
    {
     "name": "stdout",
     "output_type": "stream",
     "text": [
      "Epoch 1/10\n",
      "60000/60000 [==============================] - 2s 31us/step - loss: 16.4732 - categorical_accuracy: 0.7531\n",
      "Epoch 2/10\n",
      "60000/60000 [==============================] - 2s 28us/step - loss: 5.7410 - categorical_accuracy: 0.8681\n",
      "Epoch 3/10\n",
      "60000/60000 [==============================] - 2s 28us/step - loss: 4.4879 - categorical_accuracy: 0.8804\n",
      "Epoch 4/10\n",
      "60000/60000 [==============================] - 2s 28us/step - loss: 3.7738 - categorical_accuracy: 0.8844\n",
      "Epoch 5/10\n",
      "60000/60000 [==============================] - 2s 29us/step - loss: 3.3047 - categorical_accuracy: 0.8871\n",
      "Epoch 6/10\n",
      "60000/60000 [==============================] - 2s 28us/step - loss: 2.9584 - categorical_accuracy: 0.8912\n",
      "Epoch 7/10\n",
      "60000/60000 [==============================] - 2s 28us/step - loss: 2.7148 - categorical_accuracy: 0.8915\n",
      "Epoch 8/10\n",
      "60000/60000 [==============================] - 2s 28us/step - loss: 2.4910 - categorical_accuracy: 0.8919\n",
      "Epoch 9/10\n",
      "60000/60000 [==============================] - 2s 29us/step - loss: 2.3148 - categorical_accuracy: 0.8951\n",
      "Epoch 10/10\n",
      "60000/60000 [==============================] - 2s 29us/step - loss: 2.1797 - categorical_accuracy: 0.8950\n"
     ]
    }
   ],
   "source": [
    "history = model.fit(X_train, y_train, epochs=10, verbose=1)"
   ]
  },
  {
   "cell_type": "markdown",
   "metadata": {},
   "source": [
    "# Compute the test-set accuracy"
   ]
  },
  {
   "cell_type": "code",
   "execution_count": 8,
   "metadata": {},
   "outputs": [
    {
     "name": "stdout",
     "output_type": "stream",
     "text": [
      "10000/10000 [==============================] - 0s 15us/step\n",
      "\n",
      "Test accuracy:\n",
      "0.8905\n"
     ]
    }
   ],
   "source": [
    "results = model.evaluate(X_test, y_test)\n",
    "\n",
    "print()\n",
    "print('Test accuracy:')\n",
    "print(results[1])"
   ]
  },
  {
   "cell_type": "markdown",
   "metadata": {},
   "source": [
    "## Show some examples of found labels"
   ]
  },
  {
   "cell_type": "code",
   "execution_count": 9,
   "metadata": {},
   "outputs": [],
   "source": [
    "# Get the predicted labels for the test data.\n",
    "\n",
    "predicted_classes = model.predict_classes(X_test)"
   ]
  },
  {
   "cell_type": "code",
   "execution_count": 10,
   "metadata": {},
   "outputs": [
    {
     "data": {
      "image/png": "[encoded data removed]",
      "text/plain": [
       "<Figure size 432x288 with 8 Axes>"
      ]
     },
     "metadata": {},
     "output_type": "display_data"
    }
   ],
   "source": [
    "# Examine some of the predictions.\n",
    "\n",
    "nrows, ncols = 2, 4\n",
    "\n",
    "n_test_pts = X_test.shape[0]\n",
    "show_idx = np.random.choice(\n",
    "    np.arange(n_test_pts),\n",
    "    size = nrows * ncols,\n",
    "    replace = False\n",
    ")\n",
    "\n",
    "for i, pt_idx in enumerate(show_idx):\n",
    "    \n",
    "    plt.subplot(nrows, ncols, i + 1)\n",
    "    plt.imshow(X_test[pt_idx])\n",
    "    plt.title('Predicted: %d' % predicted_classes[pt_idx])\n",
    "    \n",
    "plt.show()"
   ]
  },
  {
   "cell_type": "markdown",
   "metadata": {},
   "source": [
    "## Examine some mistakes made\n",
    "\n",
    "It can be instructive to take a look at errors\n",
    "the model makes. We'll get the indexes of all\n",
    "the errors on the test set, and take a look at\n",
    "a random subset of these."
   ]
  },
  {
   "cell_type": "code",
   "execution_count": 11,
   "metadata": {},
   "outputs": [
    {
     "data": {
      "text/plain": [
       "1095"
      ]
     },
     "execution_count": 11,
     "metadata": {},
     "output_type": "execute_result"
    }
   ],
   "source": [
    "# Find all the places in the test set where the model\n",
    "# predicts the wrong class. The boolean != operator here\n",
    "# results in an array of True/False values, and the\n",
    "# np.flatnonzero() call converts that to the indexes\n",
    "# where the value is True.\n",
    "\n",
    "mistakes = np.flatnonzero(predicted_classes != y_test_)\n",
    "len(mistakes)"
   ]
  },
  {
   "cell_type": "code",
   "execution_count": 12,
   "metadata": {},
   "outputs": [],
   "source": [
    "# Choose a random subset of mistakes that we'll display.\n",
    "\n",
    "nrows, ncols = 2, 4\n",
    "\n",
    "show_idx = np.random.choice(\n",
    "    np.arange(len(mistakes)),\n",
    "    size = nrows * ncols,\n",
    "    replace = False\n",
    ")\n",
    "show_idx = mistakes[show_idx]"
   ]
  },
  {
   "cell_type": "code",
   "execution_count": 13,
   "metadata": {},
   "outputs": [
    {
     "data": {
      "image/png": "[encoded data removed]",
      "text/plain": [
       "<Figure size 432x288 with 8 Axes>"
      ]
     },
     "metadata": {},
     "output_type": "display_data"
    }
   ],
   "source": [
    "# Render and label the random mistakes.\n",
    "\n",
    "plt.subplots(nrows, ncols)\n",
    "plt.tight_layout(pad=0.0)\n",
    "\n",
    "for i, pt_idx in enumerate(show_idx):\n",
    "    \n",
    "    plt.subplot(nrows, ncols, i + 1)\n",
    "    plt.imshow(X_test[pt_idx])\n",
    "    fmt = 'Predicted %d\\nTrue: %d'\n",
    "    title = fmt % (predicted_classes[pt_idx], y_test_[pt_idx])\n",
    "    plt.title(title)\n",
    "    \n",
    "plt.show()"
   ]
  },
  {
   "cell_type": "markdown",
   "metadata": {},
   "source": [
    "My take on the mistakes is that they are\n",
    "\"somewhat understandable,\" in the sense\n",
    "that, visually, the incorrectly chosen class\n",
    "is often a subset or superset of the correct\n",
    "class. For example, if the image is of an 8,\n",
    "but the model predicts a 9, it can be argued that\n",
    "all the pixesl that are on for 9 may also be on\n",
    "for an 8 as well.\n",
    "\n",
    "Of course, they are still mistakes."
   ]
  },
  {
   "cell_type": "markdown",
   "metadata": {},
   "source": [
    "# Summary\n",
    "\n",
    "The test accuracy for a multi-class SVM is 89.05%.\n",
    "\n",
    "(You may see a slightly different value on your run since\n",
    "models are randomly initialized each time.)"
   ]
  },
  {
   "cell_type": "code",
   "execution_count": null,
   "metadata": {},
   "outputs": [],
   "source": []
  }
 ],
 "metadata": {
  "kernelspec": {
   "display_name": "tfkoans-env",
   "language": "python",
   "name": "tfkoans-env"
  },
  "language_info": {
   "codemirror_mode": {
    "name": "ipython",
    "version": 3
   },
   "file_extension": ".py",
   "mimetype": "text/x-python",
   "name": "python",
   "nbconvert_exporter": "python",
   "pygments_lexer": "ipython3",
   "version": "3.6.5"
  }
 },
 "nbformat": 4,
 "nbformat_minor": 2
}
