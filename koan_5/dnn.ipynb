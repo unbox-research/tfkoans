{
 "cells": [
  {
   "cell_type": "markdown",
   "metadata": {},
   "source": [
    "# Multilayer perceptron using Keras in TensorFlow\n",
    "\n",
    "This notebook shows an example of training and\n",
    "testing a multi-class DNN (deep neural network; aka\n",
    "a multilayer perceptron) model on the classic\n",
    "MNIST image set. We use the keras portion of\n",
    "TensorFlow to do this."
   ]
  },
  {
   "cell_type": "markdown",
   "metadata": {},
   "source": [
    "## Imports"
   ]
  },
  {
   "cell_type": "code",
   "execution_count": 1,
   "metadata": {},
   "outputs": [
    {
     "name": "stdout",
     "output_type": "stream",
     "text": [
      "1.9.0\n"
     ]
    }
   ],
   "source": [
    "%matplotlib inline\n",
    "\n",
    "import matplotlib.pyplot as plt\n",
    "import numpy as np\n",
    "import tensorflow as tf\n",
    "\n",
    "from tensorflow import keras\n",
    "\n",
    "# Print out the TensorFlow version to help others reproduce this notebook.\n",
    "print(tf.__version__)"
   ]
  },
  {
   "cell_type": "markdown",
   "metadata": {},
   "source": [
    "## Load in the data"
   ]
  },
  {
   "cell_type": "markdown",
   "metadata": {},
   "source": [
    "Each input is a black and white (single channel)\n",
    "image of size 28x28. Each label (y-value) is an integer from 0 to 9.\n",
    "\n",
    "Each pixel has type `uint8`; an integer in the range [0, 256).\n",
    "\n",
    "This data format is explored and explained in a bit more detail\n",
    "in the notebook for Koan 4."
   ]
  },
  {
   "cell_type": "code",
   "execution_count": 2,
   "metadata": {},
   "outputs": [],
   "source": [
    "mnist = keras.datasets.mnist\n",
    "\n",
    "(X_train, y_train_), (X_test, y_test_) = mnist.load_data()"
   ]
  },
  {
   "cell_type": "markdown",
   "metadata": {},
   "source": [
    "### Convert the data format\n",
    "\n",
    "The multi-class categorical loss functions built-in to keras expect\n",
    "the labels to be one-hot vectors. We perform the corresponding\n",
    "conversion using numpy alone;\n",
    "another approach would be to use keras'\n",
    "[`to_categorical()`](https://keras.io/utils/#to_categorical) function."
   ]
  },
  {
   "cell_type": "code",
   "execution_count": 3,
   "metadata": {},
   "outputs": [
    {
     "data": {
      "text/plain": [
       "((60000, 10), (10000, 10))"
      ]
     },
     "execution_count": 3,
     "metadata": {},
     "output_type": "execute_result"
    }
   ],
   "source": [
    "# Convert the labels to one-hot vectors.\n",
    "y_train = np.eye(10)[y_train_]\n",
    "y_test  = np.eye(10)[y_test_]\n",
    "\n",
    "# Sanity check.\n",
    "y_train.shape, y_test.shape"
   ]
  },
  {
   "cell_type": "markdown",
   "metadata": {},
   "source": [
    "## Set up the keras model\n",
    "\n",
    "This model consists of 10\n",
    "densely-connected hidden layers followed by a final\n",
    "softmax layer. The hidden layers each contain 32 units,\n",
    "except for the first, which contains 64. The intuition\n",
    "behind this choice (more units per layer earlier in the model)\n",
    "is that we don't expect the first\n",
    "layer to necessarily fully learn very complex features,\n",
    "whereas later units, in some sense, have more power to\n",
    "work with more advanced features, so perhaps we will\n",
    "need fewer units per layer to capture the information\n",
    "needed for classification.\n",
    "\n",
    "To be clear, this model receives each image as a kind of\n",
    "\"ordered bag of pixels,\" in the sense that the image is\n",
    "flattened, and there is not really any explicit information\n",
    "provided about which pixels are next to which other pixels.\n",
    "However, each pixel value in\n",
    "the flattened input vector always comes from the same location\n",
    "in the image (from the same $(x, y)$ coordinate), so that\n",
    "geometric information *can* be learned by the model, but it\n",
    "is more work for the model than it would be for a convolutional\n",
    "model (a CNN; see koan 6)."
   ]
  },
  {
   "cell_type": "code",
   "execution_count": 4,
   "metadata": {},
   "outputs": [],
   "source": [
    "layers = keras.layers\n",
    "\n",
    "model = keras.Sequential()\n",
    "\n",
    "model.add(layers.Flatten())\n",
    "\n",
    "model.add(layers.Dense(64, activation='relu'))\n",
    "for _ in range(9):\n",
    "    model.add(layers.Dense(32, activation='relu'))\n",
    "    \n",
    "model.add(layers.Dense(10, activation='softmax'))\n",
    "\n",
    "model.compile(\n",
    "    optimizer = tf.train.AdamOptimizer(0.0001),\n",
    "    loss = 'categorical_crossentropy',\n",
    "    metrics = ['accuracy']\n",
    ")"
   ]
  },
  {
   "cell_type": "code",
   "execution_count": 5,
   "metadata": {},
   "outputs": [],
   "source": [
    "# Train the model.\n",
    "\n",
    "n_epochs = 40\n",
    "history = model.fit(X_train, y_train, epochs=n_epochs, verbose=0, validation_split=0.2)"
   ]
  },
  {
   "cell_type": "code",
   "execution_count": 6,
   "metadata": {},
   "outputs": [
    {
     "name": "stdout",
     "output_type": "stream",
     "text": [
      "_________________________________________________________________\n",
      "Layer (type)                 Output Shape              Param #   \n",
      "=================================================================\n",
      "flatten (Flatten)            (None, 784)               0         \n",
      "_________________________________________________________________\n",
      "dense (Dense)                (None, 64)                50240     \n",
      "_________________________________________________________________\n",
      "dense_1 (Dense)              (None, 32)                2080      \n",
      "_________________________________________________________________\n",
      "dense_2 (Dense)              (None, 32)                1056      \n",
      "_________________________________________________________________\n",
      "dense_3 (Dense)              (None, 32)                1056      \n",
      "_________________________________________________________________\n",
      "dense_4 (Dense)              (None, 32)                1056      \n",
      "_________________________________________________________________\n",
      "dense_5 (Dense)              (None, 32)                1056      \n",
      "_________________________________________________________________\n",
      "dense_6 (Dense)              (None, 32)                1056      \n",
      "_________________________________________________________________\n",
      "dense_7 (Dense)              (None, 32)                1056      \n",
      "_________________________________________________________________\n",
      "dense_8 (Dense)              (None, 32)                1056      \n",
      "_________________________________________________________________\n",
      "dense_9 (Dense)              (None, 32)                1056      \n",
      "_________________________________________________________________\n",
      "dense_10 (Dense)             (None, 10)                330       \n",
      "=================================================================\n",
      "Total params: 61,098\n",
      "Trainable params: 61,098\n",
      "Non-trainable params: 0\n",
      "_________________________________________________________________\n"
     ]
    }
   ],
   "source": [
    "model.summary()"
   ]
  },
  {
   "cell_type": "code",
   "execution_count": 7,
   "metadata": {},
   "outputs": [
    {
     "data": {
      "image/png": "[encoded data removed]",
      "text/plain": [
       "<Figure size 432x288 with 1 Axes>"
      ]
     },
     "metadata": {},
     "output_type": "display_data"
    }
   ],
   "source": [
    "# Plot the training and validation accuracy over time.\n",
    "\n",
    "epochs = range(1, n_epochs + 1)\n",
    "\n",
    "plt.plot(epochs, history.history['acc'], label='training accuracy')\n",
    "plt.plot(epochs, history.history['val_acc'], label='validation accuracy')\n",
    "plt.legend()\n",
    "plt.show()"
   ]
  },
  {
   "cell_type": "markdown",
   "metadata": {},
   "source": [
    "These curves show a little bit of overfitting."
   ]
  },
  {
   "cell_type": "markdown",
   "metadata": {},
   "source": [
    "# Compute the test-set accuracy"
   ]
  },
  {
   "cell_type": "code",
   "execution_count": 8,
   "metadata": {},
   "outputs": [
    {
     "name": "stdout",
     "output_type": "stream",
     "text": [
      "10000/10000 [==============================] - 0s 23us/step\n",
      "\n",
      "Test accuracy:\n",
      "0.9587\n"
     ]
    }
   ],
   "source": [
    "results = model.evaluate(X_test, y_test)\n",
    "\n",
    "print()\n",
    "print('Test accuracy:')\n",
    "print(results[1])"
   ]
  },
  {
   "cell_type": "markdown",
   "metadata": {},
   "source": [
    "# See if dropout helps\n",
    "\n",
    "We'll add overfitting after each hidden dense layer as\n",
    "an attempt to reduce overfitting. Let's see how that\n",
    "works."
   ]
  },
  {
   "cell_type": "code",
   "execution_count": 9,
   "metadata": {},
   "outputs": [],
   "source": [
    "layers = keras.layers\n",
    "\n",
    "model2 = keras.Sequential()\n",
    "\n",
    "model2.add(layers.Flatten())\n",
    "\n",
    "model2.add(layers.Dense(64, activation='relu'))\n",
    "model2.add(layers.Dropout(0.05))\n",
    "for _ in range(9):\n",
    "    model2.add(layers.Dense(32, activation='relu'))\n",
    "    model2.add(layers.Dropout(0.05))\n",
    "    \n",
    "model2.add(layers.Dense(10, activation='softmax'))\n",
    "\n",
    "model2.compile(\n",
    "    optimizer = tf.train.AdamOptimizer(0.0001),\n",
    "    loss = 'categorical_crossentropy',\n",
    "    metrics = ['accuracy']\n",
    ")"
   ]
  },
  {
   "cell_type": "code",
   "execution_count": 10,
   "metadata": {},
   "outputs": [],
   "source": [
    "# Train the model.\n",
    "\n",
    "n_epochs = 40\n",
    "history = model2.fit(X_train, y_train, epochs=n_epochs, verbose=0, validation_split=0.2)"
   ]
  },
  {
   "cell_type": "code",
   "execution_count": 11,
   "metadata": {},
   "outputs": [
    {
     "data": {
      "image/png": "[encoded data removed]",
      "text/plain": [
       "<Figure size 432x288 with 1 Axes>"
      ]
     },
     "metadata": {},
     "output_type": "display_data"
    }
   ],
   "source": [
    "# Plot the training and validation accuracy over time.\n",
    "\n",
    "epochs = range(1, n_epochs + 1)\n",
    "\n",
    "plt.plot(epochs, history.history['acc'], label='training accuracy')\n",
    "plt.plot(epochs, history.history['val_acc'], label='validation accuracy')\n",
    "plt.legend()\n",
    "plt.show()"
   ]
  },
  {
   "cell_type": "code",
   "execution_count": 12,
   "metadata": {},
   "outputs": [
    {
     "name": "stdout",
     "output_type": "stream",
     "text": [
      "10000/10000 [==============================] - 0s 27us/step\n",
      "\n",
      "Test accuracy (with dropout):\n",
      "0.9634\n"
     ]
    }
   ],
   "source": [
    "# Check the test accuracy for this model.\n",
    "\n",
    "results = model2.evaluate(X_test, y_test)\n",
    "\n",
    "print()\n",
    "print('Test accuracy (with dropout):')\n",
    "print(results[1])"
   ]
  },
  {
   "cell_type": "markdown",
   "metadata": {},
   "source": [
    "It's a little better!\n",
    "\n",
    "The training curves also appear to show less overfitting."
   ]
  },
  {
   "cell_type": "markdown",
   "metadata": {},
   "source": [
    "## Examine some mistakes made\n",
    "\n",
    "It can be instructive to take a look at errors\n",
    "the model makes. We'll get the indexes of all\n",
    "the errors on the test set, and take a look at\n",
    "a random subset of these."
   ]
  },
  {
   "cell_type": "code",
   "execution_count": 13,
   "metadata": {},
   "outputs": [
    {
     "data": {
      "text/plain": [
       "413"
      ]
     },
     "execution_count": 13,
     "metadata": {},
     "output_type": "execute_result"
    }
   ],
   "source": [
    "# Find all the places in the test set where the model\n",
    "# predicts the wrong class. The boolean != operator here\n",
    "# results in an array of True/False values, and the\n",
    "# np.flatnonzero() call converts that to the indexes\n",
    "# where the value is True.\n",
    "\n",
    "predicted_classes = model.predict_classes(X_test)\n",
    "\n",
    "mistakes = np.flatnonzero(predicted_classes != y_test_)\n",
    "len(mistakes)"
   ]
  },
  {
   "cell_type": "code",
   "execution_count": 14,
   "metadata": {},
   "outputs": [],
   "source": [
    "# Choose a random subset of mistakes that we'll display.\n",
    "\n",
    "nrows, ncols = 2, 4\n",
    "\n",
    "show_idx = np.random.choice(\n",
    "    np.arange(len(mistakes)),\n",
    "    size = nrows * ncols,\n",
    "    replace = False\n",
    ")\n",
    "show_idx = mistakes[show_idx]"
   ]
  },
  {
   "cell_type": "code",
   "execution_count": 16,
   "metadata": {},
   "outputs": [
    {
     "data": {
      "image/png": "[encoded data removed]",
      "text/plain": [
       "<Figure size 432x288 with 8 Axes>"
      ]
     },
     "metadata": {},
     "output_type": "display_data"
    }
   ],
   "source": [
    "# Render and label the random mistakes.\n",
    "\n",
    "plt.subplots(nrows, ncols)\n",
    "plt.tight_layout(pad=0.0)\n",
    "\n",
    "for i, pt_idx in enumerate(show_idx):\n",
    "    \n",
    "    plt.subplot(nrows, ncols, i + 1)\n",
    "    plt.imshow(X_test[pt_idx])\n",
    "    fmt = 'Predicted %d\\nTrue: %d'\n",
    "    title = fmt % (predicted_classes[pt_idx], y_test_[pt_idx])\n",
    "    plt.title(title)\n",
    "    \n",
    "plt.show()"
   ]
  },
  {
   "cell_type": "markdown",
   "metadata": {},
   "source": [
    "I can understand these errors, although some of them\n",
    "seem strange to me, such as the 0 that is misclassified as\n",
    "an 9."
   ]
  },
  {
   "cell_type": "markdown",
   "metadata": {},
   "source": [
    "# Summary\n",
    "\n",
    "So far among these koans, we have the following test accuracies for\n",
    "the MNIST dataset:\n",
    "\n",
    "* Multi-class SVM: 89.05%\n",
    "* Basic DNN (here): 96.34%\n",
    "\n",
    "This model is doing a much better job than the SVM.\n",
    "\n",
    "(You may see a slightly different value on your run since\n",
    "models are randomly initialized each time.)"
   ]
  },
  {
   "cell_type": "code",
   "execution_count": null,
   "metadata": {},
   "outputs": [],
   "source": []
  }
 ],
 "metadata": {
  "kernelspec": {
   "display_name": "tfkoans-env",
   "language": "python",
   "name": "tfkoans-env"
  },
  "language_info": {
   "codemirror_mode": {
    "name": "ipython",
    "version": 3
   },
   "file_extension": ".py",
   "mimetype": "text/x-python",
   "name": "python",
   "nbconvert_exporter": "python",
   "pygments_lexer": "ipython3",
   "version": "3.6.5"
  }
 },
 "nbformat": 4,
 "nbformat_minor": 2
}
