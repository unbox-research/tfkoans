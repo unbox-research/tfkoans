{
 "cells": [
  {
   "cell_type": "markdown",
   "metadata": {},
   "source": [
    "# CNN using Keras in TensorFlow\n",
    "\n",
    "This notebook shows an example of training and\n",
    "testing a multi-class CNN model on the classic\n",
    "MNIST image set. We use the keras portion of\n",
    "TensorFlow to do this."
   ]
  },
  {
   "cell_type": "markdown",
   "metadata": {},
   "source": [
    "## Imports"
   ]
  },
  {
   "cell_type": "code",
   "execution_count": 1,
   "metadata": {},
   "outputs": [
    {
     "name": "stdout",
     "output_type": "stream",
     "text": [
      "1.9.0\n"
     ]
    }
   ],
   "source": [
    "%matplotlib inline\n",
    "\n",
    "import matplotlib.pyplot as plt\n",
    "import numpy as np\n",
    "import tensorflow as tf\n",
    "\n",
    "from tensorflow import keras\n",
    "\n",
    "# Print out the TensorFlow version to help others reproduce this notebook.\n",
    "print(tf.__version__)"
   ]
  },
  {
   "cell_type": "markdown",
   "metadata": {},
   "source": [
    "## Load in the data"
   ]
  },
  {
   "cell_type": "markdown",
   "metadata": {},
   "source": [
    "Each input is a black and white (single channel)\n",
    "image of size 28x28. Each label (y-value) is an integer from 0 to 9.\n",
    "\n",
    "Each pixel has type `uint8`; an integer in the range [0, 256).\n",
    "\n",
    "This data format is explored and explained in a bit more detail\n",
    "in the notebook for Koan 4."
   ]
  },
  {
   "cell_type": "code",
   "execution_count": 2,
   "metadata": {},
   "outputs": [],
   "source": [
    "mnist = keras.datasets.mnist\n",
    "\n",
    "(X_train_, y_train_), (X_test_, y_test_) = mnist.load_data()"
   ]
  },
  {
   "cell_type": "markdown",
   "metadata": {},
   "source": [
    "### Convert the data format\n",
    "\n",
    "The multi-class categorical loss functions built-in to keras expect\n",
    "the labels to be one-hot vectors. We perform the corresponding\n",
    "conversion using numpy alone;\n",
    "another approach would be to use keras'\n",
    "[`to_categorical()`](https://keras.io/utils/#to_categorical) function."
   ]
  },
  {
   "cell_type": "code",
   "execution_count": 4,
   "metadata": {},
   "outputs": [
    {
     "data": {
      "text/plain": [
       "((60000, 10), (10000, 10))"
      ]
     },
     "execution_count": 4,
     "metadata": {},
     "output_type": "execute_result"
    }
   ],
   "source": [
    "# Convert the labels to one-hot vectors.\n",
    "y_train = np.eye(10)[y_train_]\n",
    "y_test  = np.eye(10)[y_test_]\n",
    "\n",
    "# Sanity check.\n",
    "y_train.shape, y_test.shape"
   ]
  },
  {
   "cell_type": "code",
   "execution_count": 5,
   "metadata": {},
   "outputs": [],
   "source": [
    "# Convert the images to have a (size-1) channel dimension.\n",
    "\n",
    "def add_channel_dim(arr):\n",
    "    return arr.reshape(arr.shape + (1,))\n",
    "\n",
    "X_train = add_channel_dim(X_train_)\n",
    "X_test  = add_channel_dim(X_test_)"
   ]
  },
  {
   "cell_type": "markdown",
   "metadata": {},
   "source": [
    "## Set up the keras model\n",
    "\n",
    "As far as CNNs go, this one is relatively simple.\n",
    "It essentially consists of 2 convolution-max-pool groups followed by\n",
    "a single fully-connected hidden layer, and ending with a 10-output\n",
    "softmax layer.\n",
    "\n",
    "This is similar to the model found in\n",
    "[this keras example](https://github.com/keras-team/keras/blob/master/examples/mnist_cnn.py),\n",
    "although this model has no regularization (and doesn't seem to suffer much\n",
    "without it)."
   ]
  },
  {
   "cell_type": "code",
   "execution_count": 14,
   "metadata": {},
   "outputs": [],
   "source": [
    "layers = keras.layers\n",
    "\n",
    "model = keras.Sequential()\n",
    "model.add(layers.Conv2D(32, (3, 3), activation='relu', input_shape=(28, 28, 1)))\n",
    "model.add(layers.MaxPooling2D((2, 2)))\n",
    "model.add(layers.Conv2D(64, (3, 3), activation='relu'))\n",
    "model.add(layers.MaxPooling2D((2, 2)))\n",
    "model.add(layers.Flatten())\n",
    "model.add(layers.Dense(128, activation='relu'))\n",
    "model.add(layers.Dense(10, activation='softmax'))\n",
    "model.compile(\n",
    "    optimizer = tf.train.AdamOptimizer(0.0001),\n",
    "    loss = 'categorical_crossentropy',\n",
    "    metrics = ['categorical_accuracy']\n",
    ")"
   ]
  },
  {
   "cell_type": "code",
   "execution_count": 24,
   "metadata": {},
   "outputs": [
    {
     "name": "stdout",
     "output_type": "stream",
     "text": [
      "_________________________________________________________________\n",
      "Layer (type)                 Output Shape              Param #   \n",
      "=================================================================\n",
      "conv2d_8 (Conv2D)            (None, 26, 26, 32)        320       \n",
      "_________________________________________________________________\n",
      "max_pooling2d_8 (MaxPooling2 (None, 13, 13, 32)        0         \n",
      "_________________________________________________________________\n",
      "conv2d_9 (Conv2D)            (None, 11, 11, 64)        18496     \n",
      "_________________________________________________________________\n",
      "max_pooling2d_9 (MaxPooling2 (None, 5, 5, 64)          0         \n",
      "_________________________________________________________________\n",
      "flatten_4 (Flatten)          (None, 1600)              0         \n",
      "_________________________________________________________________\n",
      "dense_5 (Dense)              (None, 128)               204928    \n",
      "_________________________________________________________________\n",
      "dense_6 (Dense)              (None, 10)                1290      \n",
      "=================================================================\n",
      "Total params: 225,034\n",
      "Trainable params: 225,034\n",
      "Non-trainable params: 0\n",
      "_________________________________________________________________\n"
     ]
    }
   ],
   "source": [
    "# Review a summary of the model we've designed.\n",
    "\n",
    "model.summary()"
   ]
  },
  {
   "cell_type": "code",
   "execution_count": 15,
   "metadata": {},
   "outputs": [
    {
     "name": "stdout",
     "output_type": "stream",
     "text": [
      "Train on 48000 samples, validate on 12000 samples\n",
      "Epoch 1/10\n",
      "48000/48000 [==============================] - 33s 690us/step - loss: 2.5745 - categorical_accuracy: 0.7950 - val_loss: 0.2144 - val_categorical_accuracy: 0.9568\n",
      "Epoch 2/10\n",
      "48000/48000 [==============================] - 34s 703us/step - loss: 0.1537 - categorical_accuracy: 0.9652 - val_loss: 0.1215 - val_categorical_accuracy: 0.9728\n",
      "Epoch 3/10\n",
      "48000/48000 [==============================] - 35s 724us/step - loss: 0.0800 - categorical_accuracy: 0.9788 - val_loss: 0.0995 - val_categorical_accuracy: 0.9756\n",
      "Epoch 4/10\n",
      "48000/48000 [==============================] - 34s 707us/step - loss: 0.0549 - categorical_accuracy: 0.9849 - val_loss: 0.0828 - val_categorical_accuracy: 0.9798\n",
      "Epoch 5/10\n",
      "48000/48000 [==============================] - 34s 714us/step - loss: 0.0379 - categorical_accuracy: 0.9885 - val_loss: 0.0936 - val_categorical_accuracy: 0.9792\n",
      "Epoch 6/10\n",
      "48000/48000 [==============================] - 36s 752us/step - loss: 0.0264 - categorical_accuracy: 0.9914 - val_loss: 0.0767 - val_categorical_accuracy: 0.9819\n",
      "Epoch 7/10\n",
      "48000/48000 [==============================] - 36s 752us/step - loss: 0.0210 - categorical_accuracy: 0.9932 - val_loss: 0.0708 - val_categorical_accuracy: 0.9842\n",
      "Epoch 8/10\n",
      "48000/48000 [==============================] - 36s 755us/step - loss: 0.0147 - categorical_accuracy: 0.9953 - val_loss: 0.0739 - val_categorical_accuracy: 0.9822\n",
      "Epoch 9/10\n",
      "48000/48000 [==============================] - 36s 753us/step - loss: 0.0121 - categorical_accuracy: 0.9960 - val_loss: 0.0642 - val_categorical_accuracy: 0.9853\n",
      "Epoch 10/10\n",
      "48000/48000 [==============================] - 36s 754us/step - loss: 0.0091 - categorical_accuracy: 0.9970 - val_loss: 0.0819 - val_categorical_accuracy: 0.9818\n"
     ]
    }
   ],
   "source": [
    "# Train the model.\n",
    "\n",
    "history = model.fit(X_train, y_train, epochs=10, verbose=1, validation_split=0.2)"
   ]
  },
  {
   "cell_type": "code",
   "execution_count": 23,
   "metadata": {},
   "outputs": [
    {
     "data": {
      "image/png": "[encoded data removed]",
      "text/plain": [
       "<Figure size 432x288 with 1 Axes>"
      ]
     },
     "metadata": {},
     "output_type": "display_data"
    }
   ],
   "source": [
    "# Plot the training and validation accuracy over time.\n",
    "\n",
    "epochs = range(1, 11)\n",
    "\n",
    "plt.plot(epochs, history.history['categorical_accuracy'], label='training accuracy')\n",
    "plt.plot(epochs, history.history['val_categorical_accuracy'], label='validation accuracy')\n",
    "plt.legend()\n",
    "plt.show()"
   ]
  },
  {
   "cell_type": "markdown",
   "metadata": {},
   "source": [
    "# Compute the test-set accuracy"
   ]
  },
  {
   "cell_type": "code",
   "execution_count": 25,
   "metadata": {},
   "outputs": [
    {
     "name": "stdout",
     "output_type": "stream",
     "text": [
      "10000/10000 [==============================] - 2s 204us/step\n",
      "\n",
      "Test accuracy:\n",
      "0.9813\n"
     ]
    }
   ],
   "source": [
    "results = model.evaluate(X_test, y_test)\n",
    "\n",
    "print()\n",
    "print('Test accuracy:')\n",
    "print(results[1])"
   ]
  },
  {
   "cell_type": "markdown",
   "metadata": {},
   "source": [
    "## Examine some mistakes made\n",
    "\n",
    "It can be instructive to take a look at errors\n",
    "the model makes. We'll get the indexes of all\n",
    "the errors on the test set, and take a look at\n",
    "a random subset of these."
   ]
  },
  {
   "cell_type": "code",
   "execution_count": 26,
   "metadata": {},
   "outputs": [
    {
     "data": {
      "text/plain": [
       "187"
      ]
     },
     "execution_count": 26,
     "metadata": {},
     "output_type": "execute_result"
    }
   ],
   "source": [
    "# Find all the places in the test set where the model\n",
    "# predicts the wrong class. The boolean != operator here\n",
    "# results in an array of True/False values, and the\n",
    "# np.flatnonzero() call converts that to the indexes\n",
    "# where the value is True.\n",
    "\n",
    "predicted_classes = model.predict_classes(X_test)\n",
    "\n",
    "mistakes = np.flatnonzero(predicted_classes != y_test_)\n",
    "len(mistakes)"
   ]
  },
  {
   "cell_type": "code",
   "execution_count": 27,
   "metadata": {},
   "outputs": [],
   "source": [
    "# Choose a random subset of mistakes that we'll display.\n",
    "\n",
    "nrows, ncols = 2, 4\n",
    "\n",
    "show_idx = np.random.choice(\n",
    "    np.arange(len(mistakes)),\n",
    "    size = nrows * ncols,\n",
    "    replace = False\n",
    ")\n",
    "show_idx = mistakes[show_idx]"
   ]
  },
  {
   "cell_type": "code",
   "execution_count": 29,
   "metadata": {},
   "outputs": [
    {
     "data": {
      "image/png": "[encoded data removed]",
      "text/plain": [
       "<Figure size 432x288 with 8 Axes>"
      ]
     },
     "metadata": {},
     "output_type": "display_data"
    }
   ],
   "source": [
    "# Render and label the random mistakes.\n",
    "\n",
    "plt.subplots(nrows, ncols)\n",
    "plt.tight_layout(pad=0.0)\n",
    "\n",
    "for i, pt_idx in enumerate(show_idx):\n",
    "    \n",
    "    plt.subplot(nrows, ncols, i + 1)\n",
    "    plt.imshow(X_test_[pt_idx])\n",
    "    fmt = 'Predicted %d\\nTrue: %d'\n",
    "    title = fmt % (predicted_classes[pt_idx], y_test_[pt_idx])\n",
    "    plt.title(title)\n",
    "    \n",
    "plt.show()"
   ]
  },
  {
   "cell_type": "markdown",
   "metadata": {},
   "source": [
    "I find some of these mistakes understandable,\n",
    "and others less so. For example, the large\n",
    "6 digit is visually extremely close to a 0.\n",
    "As a human, I would be uncertain about the correct\n",
    "label. Likewise with the 2 that looks like a 7.\n",
    "However, I find most of the other images to be\n",
    "clear to me as a human. I have a sense that the\n",
    "model has missed something fundamental about the\n",
    "topology of a figure-8 that makes it confused about\n",
    "those images, and I wonder what sort of model may\n",
    "be better at capturing that kind of information."
   ]
  },
  {
   "cell_type": "markdown",
   "metadata": {},
   "source": [
    "# Summary\n",
    "\n",
    "So far among these koans, we have the following test accuracies for\n",
    "the MNIST dataset:\n",
    "\n",
    "* Multi-class SVM: 89.05%\n",
    "* Basic CNN (here): 98.13%\n",
    "\n",
    "This model is doing a much better job.\n",
    "\n",
    "(You may see a slightly different value on your run since\n",
    "models are randomly initialized each time.)"
   ]
  },
  {
   "cell_type": "code",
   "execution_count": null,
   "metadata": {},
   "outputs": [],
   "source": []
  }
 ],
 "metadata": {
  "kernelspec": {
   "display_name": "tfkoans-env",
   "language": "python",
   "name": "tfkoans-env"
  },
  "language_info": {
   "codemirror_mode": {
    "name": "ipython",
    "version": 3
   },
   "file_extension": ".py",
   "mimetype": "text/x-python",
   "name": "python",
   "nbconvert_exporter": "python",
   "pygments_lexer": "ipython3",
   "version": "3.6.5"
  }
 },
 "nbformat": 4,
 "nbformat_minor": 2
}
