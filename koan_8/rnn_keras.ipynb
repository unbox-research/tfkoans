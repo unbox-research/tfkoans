{
 "cells": [
  {
   "cell_type": "markdown",
   "metadata": {},
   "source": [
    "# A Recurrent Network using Keras in TensorFlow\n",
    "\n",
    "This notebook shows how we can train an RNN\n",
    "(recurrent neural network) using the `tf.keras` interface.\n",
    "\n",
    "TensorFlow comes pre-packages with some imdb movie reviews\n",
    "that are labeled for positive or negative sentament. We'll build a\n",
    "classifier that learns to label new reviews as good or bad.\n",
    "\n",
    "This dataset was also used in Koan 3."
   ]
  },
  {
   "cell_type": "markdown",
   "metadata": {},
   "source": [
    "## Imports"
   ]
  },
  {
   "cell_type": "code",
   "execution_count": 1,
   "metadata": {},
   "outputs": [
    {
     "name": "stdout",
     "output_type": "stream",
     "text": [
      "1.9.0\n"
     ]
    }
   ],
   "source": [
    "%matplotlib inline\n",
    "\n",
    "import matplotlib.pyplot as plt\n",
    "import tensorflow as tf\n",
    "from tensorflow import keras\n",
    "\n",
    "import numpy as np\n",
    "\n",
    "# Print out the TensorFlow version to help others reproduce this notebook.\n",
    "print(tf.__version__)"
   ]
  },
  {
   "cell_type": "markdown",
   "metadata": {},
   "source": [
    "## Load in the data"
   ]
  },
  {
   "cell_type": "code",
   "execution_count": 2,
   "metadata": {},
   "outputs": [],
   "source": [
    "imdb = keras.datasets.imdb\n",
    "\n",
    "NUM_WORDS  = 1000  # Keep this many words (throw out least popular).\n",
    "INDEX_FROM = 3    # Initial index of kept words.\n",
    "\n",
    "(X_train_, y_train), (X_test_, y_test) = imdb.load_data(\n",
    "    num_words = NUM_WORDS,\n",
    "    index_from = INDEX_FROM\n",
    ")"
   ]
  },
  {
   "cell_type": "markdown",
   "metadata": {},
   "source": [
    "## Convert data to fixed-length time series"
   ]
  },
  {
   "cell_type": "code",
   "execution_count": 3,
   "metadata": {},
   "outputs": [],
   "source": [
    "from tensorflow.keras.preprocessing import sequence"
   ]
  },
  {
   "cell_type": "markdown",
   "metadata": {},
   "source": [
    "We'll use `pad_sequences()` to constrain (shortening or lengthening) the review lengths\n",
    "to the same value. Here's an example of how this function works:"
   ]
  },
  {
   "cell_type": "code",
   "execution_count": 4,
   "metadata": {},
   "outputs": [
    {
     "data": {
      "text/plain": [
       "array([[  2, 113, 103,  32,  15,  16,   2,  19, 178,  32],\n",
       "       [ 52, 154, 462,  33,  89,  78, 285,  16, 145,  95],\n",
       "       [106, 607, 624,  35, 534,   6, 227,   7, 129, 113],\n",
       "       [ 26,  49,   2,  15, 566,  30, 579,  21,  64,   2],\n",
       "       [ 19,  14,   5,   2,   6, 226, 251,   7,  61, 113],\n",
       "       [  4, 226,  65,  12,  43, 127,  24,   2,  10,  10],\n",
       "       [108,   7,   4,   2,   5,   2,  81,  55,  52,   2],\n",
       "       [ 28,   6,  22,  15, 122,  24,   2,  72,  33,  32],\n",
       "       [  9,  31,   7,   4, 118,   2,  13,  28, 126, 110],\n",
       "       [  4,  58,   5,   4, 816,   9, 243,   7,  43,  50],\n",
       "       [ 31,   7,   4, 118,   7,   4,   2, 545,   2, 829],\n",
       "       [ 13, 202,  12,   2,   5,   6, 320,  46,   7, 457],\n",
       "       [  8, 130,  56, 547,   2,   5,   2, 851,  14,   2],\n",
       "       [  9, 170,  23,  11,   2, 134, 504,   2,   2,   2],\n",
       "       [  2,   2,   2, 175,   2,  11,   4,   2, 543,   2]], dtype=int32)"
      ]
     },
     "execution_count": 4,
     "metadata": {},
     "output_type": "execute_result"
    }
   ],
   "source": [
    "sequence.pad_sequences(X_train_[:15], maxlen=10)"
   ]
  },
  {
   "cell_type": "markdown",
   "metadata": {},
   "source": [
    "Let's make an informed decision as to what length to constrain\n",
    "the reviews to. Shorter lengths allow for faster processing at\n",
    "the expense of losing data from longer reviews. A good length\n",
    "includes most of the data, but does not waste time with many\n",
    "padded zeros."
   ]
  },
  {
   "cell_type": "code",
   "execution_count": 5,
   "metadata": {},
   "outputs": [
    {
     "data": {
      "image/png": "[encoded data removed]",
      "text/plain": [
       "<Figure size 432x288 with 1 Axes>"
      ]
     },
     "metadata": {},
     "output_type": "display_data"
    }
   ],
   "source": [
    "# Get a sense for how many reviews exist at various lengths.\n",
    "\n",
    "review_lens = np.array([len(x) for x in X_train_])\n",
    "plt.hist(review_lens, bins=100, range=(0, 600))\n",
    "plt.show()"
   ]
  },
  {
   "cell_type": "markdown",
   "metadata": {},
   "source": [
    "**Q**: How many reviews will we cover completely with a max length of 300?"
   ]
  },
  {
   "cell_type": "code",
   "execution_count": 6,
   "metadata": {},
   "outputs": [
    {
     "data": {
      "text/plain": [
       "0.76204"
      ]
     },
     "execution_count": 6,
     "metadata": {},
     "output_type": "execute_result"
    }
   ],
   "source": [
    "fixed_len = 300\n",
    "np.sum(review_lens < fixed_len) / len(review_lens)"
   ]
  },
  {
   "cell_type": "markdown",
   "metadata": {},
   "source": [
    "**A**: About 76%.\n",
    "\n",
    "That seems like a reasonable compromise between coverage and length. No one reads overly-verbose movie reviews anyway ;)"
   ]
  },
  {
   "cell_type": "code",
   "execution_count": 7,
   "metadata": {},
   "outputs": [],
   "source": [
    "X_train = sequence.pad_sequences(X_train_, maxlen=fixed_len)\n",
    "X_test  = sequence.pad_sequences(X_test_,  maxlen=fixed_len)"
   ]
  },
  {
   "cell_type": "markdown",
   "metadata": {},
   "source": [
    "# Set up the keras model"
   ]
  },
  {
   "cell_type": "code",
   "execution_count": 8,
   "metadata": {},
   "outputs": [],
   "source": [
    "layers = keras.layers"
   ]
  },
  {
   "cell_type": "code",
   "execution_count": 9,
   "metadata": {},
   "outputs": [],
   "source": [
    "wordvec_len = 100\n",
    "\n",
    "model = keras.Sequential()\n",
    "model.add(layers.Embedding(NUM_WORDS, wordvec_len))\n",
    "model.add(layers.LSTM(32))\n",
    "model.add(layers.Dense(1, activation='sigmoid'))\n",
    "\n",
    "model.compile(\n",
    "    optimizer = 'rmsprop',\n",
    "    loss = 'binary_crossentropy',\n",
    "    metrics = ['acc']\n",
    ")"
   ]
  },
  {
   "cell_type": "code",
   "execution_count": 10,
   "metadata": {},
   "outputs": [
    {
     "name": "stderr",
     "output_type": "stream",
     "text": [
      "/Users/tylerneylon/work/tfkoans/tfkoans-env/lib/python3.6/site-packages/tensorflow/python/ops/gradients_impl.py:100: UserWarning: Converting sparse IndexedSlices to a dense Tensor of unknown shape. This may consume a large amount of memory.\n",
      "  \"Converting sparse IndexedSlices to a dense Tensor of unknown shape. \"\n"
     ]
    }
   ],
   "source": [
    "# Train the model.\n",
    "\n",
    "n_epochs = 20\n",
    "history = model.fit(X_train, y_train, epochs=n_epochs, verbose=0, validation_split=0.1)"
   ]
  },
  {
   "cell_type": "code",
   "execution_count": 11,
   "metadata": {},
   "outputs": [
    {
     "data": {
      "image/png": "[encoded data removed]",
      "text/plain": [
       "<Figure size 432x288 with 1 Axes>"
      ]
     },
     "metadata": {},
     "output_type": "display_data"
    }
   ],
   "source": [
    "# Plot the training and validation accuracy over time.\n",
    "\n",
    "epochs = range(1, n_epochs + 1)\n",
    "\n",
    "plt.plot(epochs, history.history['acc'], label='training accuracy')\n",
    "plt.plot(epochs, history.history['val_acc'], label='validation accuracy')\n",
    "plt.legend()\n",
    "plt.show()"
   ]
  },
  {
   "cell_type": "markdown",
   "metadata": {},
   "source": [
    "### Compute the test-set accuracy"
   ]
  },
  {
   "cell_type": "code",
   "execution_count": 12,
   "metadata": {},
   "outputs": [
    {
     "name": "stdout",
     "output_type": "stream",
     "text": [
      "25000/25000 [==============================] - 60s 2ms/step\n",
      "\n",
      "Test accuracy:\n",
      "0.85856\n"
     ]
    }
   ],
   "source": [
    "results = model.evaluate(X_test, y_test)\n",
    "\n",
    "print()\n",
    "print('Test accuracy:')\n",
    "print(results[1])"
   ]
  },
  {
   "cell_type": "markdown",
   "metadata": {},
   "source": [
    "# Set up a regularized model\n",
    "\n",
    "The idea here is to see if we can improve performance by reducing\n",
    "the overfitting apparent in the above model."
   ]
  },
  {
   "cell_type": "code",
   "execution_count": 17,
   "metadata": {},
   "outputs": [],
   "source": [
    "regd_model = keras.Sequential()\n",
    "regd_model.add(layers.Embedding(NUM_WORDS, wordvec_len))\n",
    "regd_model.add(layers.LSTM(\n",
    "    32,  # Number of output units.\n",
    "    dropout = 0.1,\n",
    "    recurrent_dropout = 0.5\n",
    "))\n",
    "regd_model.add(layers.Dense(1, activation='sigmoid'))\n",
    "\n",
    "regd_model.compile(\n",
    "    optimizer = 'rmsprop',\n",
    "    loss = 'binary_crossentropy',\n",
    "    metrics = ['acc']\n",
    ")"
   ]
  },
  {
   "cell_type": "code",
   "execution_count": 18,
   "metadata": {},
   "outputs": [
    {
     "name": "stderr",
     "output_type": "stream",
     "text": [
      "/Users/tylerneylon/work/tfkoans/tfkoans-env/lib/python3.6/site-packages/tensorflow/python/ops/gradients_impl.py:100: UserWarning: Converting sparse IndexedSlices to a dense Tensor of unknown shape. This may consume a large amount of memory.\n",
      "  \"Converting sparse IndexedSlices to a dense Tensor of unknown shape. \"\n"
     ]
    }
   ],
   "source": [
    "# Train the model.\n",
    "\n",
    "# We train this one longer because regularized networks often\n",
    "# take longer to achieve the same training accuracy as their\n",
    "# unregularized counterparts.\n",
    "\n",
    "n_epochs = 40\n",
    "regd_history = regd_model.fit(X_train, y_train, epochs=n_epochs, verbose=0, validation_split=0.1)"
   ]
  },
  {
   "cell_type": "code",
   "execution_count": 19,
   "metadata": {},
   "outputs": [
    {
     "data": {
      "image/png": "[encoded data removed]",
      "text/plain": [
       "<Figure size 432x288 with 1 Axes>"
      ]
     },
     "metadata": {},
     "output_type": "display_data"
    }
   ],
   "source": [
    "# Plot the training and validation accuracy over time.\n",
    "\n",
    "epochs = range(1, n_epochs + 1)\n",
    "\n",
    "plt.plot(epochs, regd_history.history['acc'], label='training accuracy')\n",
    "plt.plot(epochs, regd_history.history['val_acc'], label='validation accuracy')\n",
    "plt.legend()\n",
    "plt.show()"
   ]
  },
  {
   "cell_type": "markdown",
   "metadata": {},
   "source": [
    "### Compute the test-set accuracy"
   ]
  },
  {
   "cell_type": "code",
   "execution_count": 21,
   "metadata": {},
   "outputs": [
    {
     "name": "stdout",
     "output_type": "stream",
     "text": [
      "25000/25000 [==============================] - 84s 3ms/step\n",
      "\n",
      "Test accuracy (using the regularized network):\n",
      "0.88044\n"
     ]
    }
   ],
   "source": [
    "results = regd_model.evaluate(X_test, y_test)\n",
    "\n",
    "print()\n",
    "print('Test accuracy (using the regularized network):')\n",
    "print(results[1])"
   ]
  },
  {
   "cell_type": "code",
   "execution_count": null,
   "metadata": {},
   "outputs": [],
   "source": []
  }
 ],
 "metadata": {
  "kernelspec": {
   "display_name": "tfkoans-env",
   "language": "python",
   "name": "tfkoans-env"
  },
  "language_info": {
   "codemirror_mode": {
    "name": "ipython",
    "version": 3
   },
   "file_extension": ".py",
   "mimetype": "text/x-python",
   "name": "python",
   "nbconvert_exporter": "python",
   "pygments_lexer": "ipython3",
   "version": "3.6.5"
  }
 },
 "nbformat": 4,
 "nbformat_minor": 2
}
